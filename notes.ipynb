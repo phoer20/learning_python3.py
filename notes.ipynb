{
 "cells": [
  {
   "cell_type": "code",
   "execution_count": null,
   "id": "b7b341ba-e191-4ae3-acf4-6ff73c251edb",
   "metadata": {
    "tags": []
   },
   "outputs": [],
   "source": [
    "allow_list = [\"192.168.243.140\", \"192.168.205.12\", \"192.168.151.162\", \"192.168.178.71\", \n",
    "              \"192.168.86.232\", \"192.168.3.24\", \"192.168.170.243\", \"192.168.119.173\"]\n",
    "              \n",
    "ip_addresses = [\"192.168.142.245\", \"192.168.109.50\", \"192.168.86.232\", \"192.168.131.147\",\n",
    "                \"192.168.205.12\", \"192.168.200.48\"]\n",
    "                \n",
    "                \n",
    "                \n",
    "for i in ip_addresses:\n",
    "    if i in allow_list:\n",
    "        print('IP address is allowed')\n",
    "    else:\n",
    "        print('IP address is not allowed')\n",
    "        break\n",
    "        print('Further investigation is needed')\n"
   ]
  },
  {
   "cell_type": "code",
   "execution_count": null,
   "id": "70e3dfce-5d2a-41a5-9434-15a8a5548825",
   "metadata": {
    "jupyter": {
     "source_hidden": true
    },
    "tags": []
   },
   "outputs": [],
   "source": []
  },
  {
   "cell_type": "code",
   "execution_count": null,
   "id": "22e19512-d55a-4acf-ad96-bfbc8873a789",
   "metadata": {
    "jupyter": {
     "source_hidden": true
    },
    "tags": []
   },
   "outputs": [],
   "source": [
    "ip_addresses = [\"192.168.142.245\", \"192.168.109.50\", \"192.168.86.232\", \"192.168.131.147\",\n",
    "                \"192.168.205.12\", \"192.168.200.48\"]\n",
    "for i in ip_addresses:\n",
    "    print(i)"
   ]
  },
  {
   "cell_type": "code",
   "execution_count": null,
   "id": "28f4cf91-a342-4ec6-903a-ddf6997fff51",
   "metadata": {},
   "outputs": [],
   "source": []
  },
  {
   "cell_type": "code",
   "execution_count": null,
   "id": "85a69bf9-7a72-493d-8ca2-081678463267",
   "metadata": {},
   "outputs": [],
   "source": [
    "allow_list = [\"192.168.243.140\", \"192.168.205.12\", \"192.168.151.162\", \"192.168.178.71\", \n",
    "              \"192.168.86.232\", \"192.168.3.24\", \"192.168.170.243\", \"192.168.119.173\"]\n",
    "\n",
    "ip_addresses = [\"192.168.142.245\", \"192.168.109.50\", \"192.168.86.232\", \"192.168.131.147\",\n",
    "                \"192.168.205.12\", \"192.168.200.48\"]\n",
    "\n",
    "for i in ip_addresses:\n",
    "\tif i in allow_list:\n",
    "\t\tprint(\"IP address is allowed\")\n",
    "\telse:\n",
    "\t\tprint(\"IP address is not allowed. Further investigation of login activity required\")\n",
    "\t\tbreak"
   ]
  },
  {
   "cell_type": "code",
   "execution_count": null,
   "id": "88bccb09-8120-4163-9e0e-201091da727a",
   "metadata": {},
   "outputs": [],
   "source": []
  },
  {
   "cell_type": "code",
   "execution_count": null,
   "id": "3afe912a-a00a-4ca0-93aa-8032ce4a73b7",
   "metadata": {},
   "outputs": [],
   "source": [
    "i = 5000\n",
    "\n",
    "while i <= 5150:\n",
    "    print(i)\n",
    "    if i == 5100:\n",
    "        print(\"only 10 valid employee IDs remaining\")\n",
    "    i = i + 5"
   ]
  },
  {
   "cell_type": "code",
   "execution_count": null,
   "id": "ab7d71f3-f88a-4513-8069-2319a733ddc8",
   "metadata": {},
   "outputs": [],
   "source": []
  },
  {
   "cell_type": "code",
   "execution_count": null,
   "id": "fad14411-1b54-4a7c-af52-e65a0a651bdc",
   "metadata": {},
   "outputs": [],
   "source": [
    "def greet_emp():\n",
    "    print(\"Welcome!\")\n",
    "    \n",
    "greet_emp()"
   ]
  },
  {
   "cell_type": "code",
   "execution_count": null,
   "id": "6464a2c6-7910-43ce-95fe-f85d89029b91",
   "metadata": {},
   "outputs": [],
   "source": []
  },
  {
   "cell_type": "code",
   "execution_count": null,
   "id": "5a94b9ab-6db8-4959-bbd8-968638ed1928",
   "metadata": {},
   "outputs": [],
   "source": [
    "def alert():\n",
    "    print(\"Potential security issue. Investigate further.\")\n",
    "    \n",
    "alert()"
   ]
  },
  {
   "cell_type": "code",
   "execution_count": null,
   "id": "f4ce40c4-8902-4867-bc9f-a67b29359a44",
   "metadata": {},
   "outputs": [],
   "source": []
  },
  {
   "cell_type": "code",
   "execution_count": null,
   "id": "06b7b50d-b77b-4981-a817-139da001cb4a",
   "metadata": {},
   "outputs": [],
   "source": [
    "def alert():\n",
    "    for i in range(3):\n",
    "        print(\"potentail security issue.\")\n",
    "        \n",
    "alert()"
   ]
  },
  {
   "cell_type": "code",
   "execution_count": null,
   "id": "937356ca-7211-47be-ba72-e0d52bf67f36",
   "metadata": {},
   "outputs": [],
   "source": []
  },
  {
   "cell_type": "code",
   "execution_count": 1,
   "id": "a46ac605-2ea4-4179-bf23-ad0a11277a33",
   "metadata": {
    "tags": []
   },
   "outputs": [
    {
     "name": "stdout",
     "output_type": "stream",
     "text": [
      "elarson\n",
      "bmoreno\n",
      "tshah\n",
      "sgilmore\n",
      "eraab\n",
      "gesparza\n",
      "alevitsk\n",
      "wjaffrey\n"
     ]
    }
   ],
   "source": [
    "# Define a function named `list_to_string()`\n",
    "\n",
    "def list_to_string():\n",
    "\n",
    "  # Store the list of approved usernames in a variable named `username_list`\n",
    "\n",
    "  username_list = [\"elarson\", \"bmoreno\", \"tshah\", \"sgilmore\", \"eraab\", \"gesparza\", \"alevitsk\", \"wjaffrey\"]\n",
    "\n",
    "  # Write a for loop that iterates through the elements of `username_list` and displays each element\n",
    "\n",
    "  for i in username_list:\n",
    "    print(i)\n",
    "\n",
    "# Call the `list_to_string()` function\n",
    "\n",
    "list_to_string()"
   ]
  },
  {
   "cell_type": "code",
   "execution_count": null,
   "id": "94b58d55-c100-4f5b-ba8e-828ea0319b3a",
   "metadata": {
    "tags": []
   },
   "outputs": [],
   "source": []
  },
  {
   "cell_type": "code",
   "execution_count": 2,
   "id": "fb0cda14-e8fa-4894-8e9b-7caf1ac2b10a",
   "metadata": {},
   "outputs": [
    {
     "name": "stdout",
     "output_type": "stream",
     "text": [
      "elarson, bmoreno, tshah, sgilmore, eraab, gesparza, alevitsk, wjaffrey, \n"
     ]
    }
   ],
   "source": [
    "# Define a function named `list_to_string()`\n",
    "\n",
    "def list_to_string():\n",
    "\n",
    "  # Store the list of approved usernames in a variable named `username_list`\n",
    "\n",
    "  username_list = [\"elarson\", \"bmoreno\", \"tshah\", \"sgilmore\", \"eraab\", \"gesparza\", \"alevitsk\", \"wjaffrey\"]\n",
    "\n",
    "  # Assign `sum_variable` to an empty string\n",
    "\n",
    "  sum_variable = \"\"\n",
    "\n",
    "  # Write a for loop that iterates through the elements of `username_list` and displays each element\n",
    "\n",
    "  for i in username_list:\n",
    "    sum_variable = sum_variable + i + \", \"\n",
    "\n",
    "  # Display the value of `sum_variable`\n",
    "\n",
    "  print(sum_variable)\n",
    "\n",
    "# Call the `list_to_string()` function\n",
    "\n",
    "list_to_string()"
   ]
  },
  {
   "cell_type": "code",
   "execution_count": null,
   "id": "99fcb016-8269-4275-a1d0-6facec58bb7b",
   "metadata": {},
   "outputs": [],
   "source": []
  },
  {
   "cell_type": "code",
   "execution_count": 3,
   "id": "2c21f31e-c69c-4808-822a-84f8f9accdfb",
   "metadata": {},
   "outputs": [
    {
     "name": "stdout",
     "output_type": "stream",
     "text": [
      "aquinlan\n",
      "nspradling\n",
      "gdaley\n",
      "jrogers\n",
      "drunyon\n",
      "isprad\n",
      "pquinlan\n",
      "adaley\n",
      "brunyon\n",
      "arunyon\n",
      "crunyon\n"
     ]
    }
   ],
   "source": [
    "def auth_user():\n",
    "    family = [\"aquinlan\", \"nspradling\", \"gdaley\", \"jrogers\", \"drunyon\", \"isprad\", \"pquinlan\", \"adaley\", \"brunyon\", \"arunyon\", \n",
    "             \"crunyon\", ]\n",
    "    for i in family:\n",
    "        print(i)   \n",
    "auth_user()       \n"
   ]
  },
  {
   "cell_type": "code",
   "execution_count": null,
   "id": "e9778aaa-5f1e-4740-b840-e213684deb1a",
   "metadata": {},
   "outputs": [],
   "source": []
  },
  {
   "cell_type": "code",
   "execution_count": null,
   "id": "a5e0d02d-26c2-4c13-a6c4-d10a35c8141c",
   "metadata": {},
   "outputs": [],
   "source": [
    "def greet_emp(first_name, last_name):\n",
    "    print(\"welcome! you are getting this down\", first_name, last_name, \"!\")\n",
    "greet_emp(\"Nikolas\", \"Spradling\")"
   ]
  },
  {
   "cell_type": "code",
   "execution_count": null,
   "id": "6180d411-95ec-4b9e-aae5-28fb46330598",
   "metadata": {},
   "outputs": [],
   "source": []
  },
  {
   "cell_type": "code",
   "execution_count": 4,
   "id": "a438e49c-d6b6-4e99-941b-e5d2026c6944",
   "metadata": {},
   "outputs": [
    {
     "name": "stdout",
     "output_type": "stream",
     "text": [
      "account locked\n"
     ]
    }
   ],
   "source": [
    "def calculate_fails(total_attempts, failed_attempts):\n",
    "    fail_percentage = failed_attempts / total_attempts\n",
    "    return fail_percentage\n",
    "percentage = calculate_fails(4,2)\n",
    "\n",
    "if (percentage >= .5):\n",
    "    print(\"account locked\")"
   ]
  },
  {
   "cell_type": "code",
   "execution_count": null,
   "id": "0d6f1424-96b1-4217-a1c1-64036456c42f",
   "metadata": {},
   "outputs": [],
   "source": []
  },
  {
   "cell_type": "code",
   "execution_count": 5,
   "id": "b329297d-e1de-41e4-acf5-27d204876d1c",
   "metadata": {},
   "outputs": [
    {
     "name": "stdout",
     "output_type": "stream",
     "text": [
      "<class 'str'>\n"
     ]
    }
   ],
   "source": [
    "print(type(\"Hello!\"))"
   ]
  },
  {
   "cell_type": "code",
   "execution_count": null,
   "id": "7128c11d-7cf3-47ba-886f-c910f39e9049",
   "metadata": {},
   "outputs": [],
   "source": []
  },
  {
   "cell_type": "code",
   "execution_count": null,
   "id": "9fc5237d-e185-4fc6-a01b-ac9681e32780",
   "metadata": {},
   "outputs": [],
   "source": [
    "print(\"this is a string but\", 75, \"is a number\")"
   ]
  },
  {
   "cell_type": "code",
   "execution_count": null,
   "id": "c8b71e9d-6d31-4e83-97a2-ec89c9ff56c0",
   "metadata": {},
   "outputs": [],
   "source": []
  },
  {
   "cell_type": "code",
   "execution_count": null,
   "id": "693d84f0-5738-488e-b532-cac733130682",
   "metadata": {},
   "outputs": [],
   "source": [
    "print(type(\"security\"))\n",
    "print(type(73.2))"
   ]
  },
  {
   "cell_type": "code",
   "execution_count": null,
   "id": "b07acbb7-3ace-44f0-904c-9468e103f08b",
   "metadata": {},
   "outputs": [],
   "source": []
  },
  {
   "cell_type": "code",
   "execution_count": null,
   "id": "636ad2fa-f16c-4d15-80cd-6a82109ec7f6",
   "metadata": {},
   "outputs": [],
   "source": [
    "a=3\n",
    "b=9\n",
    "c=6\n",
    "print(max(a,b,c))"
   ]
  },
  {
   "cell_type": "code",
   "execution_count": null,
   "id": "69826967-aac1-4039-b7b4-dea9f631572f",
   "metadata": {},
   "outputs": [],
   "source": []
  },
  {
   "cell_type": "code",
   "execution_count": null,
   "id": "cbebc183-f6a8-4580-a9cb-c68511320062",
   "metadata": {},
   "outputs": [],
   "source": [
    "usernames = family = [\"aquinlan\", \"nspradling\", \"gdaley\", \"jrogers\", \"drunyon\", \"isprad\", \"pquinlan\", \"adaley\", \"brunyon\", \"arunyon\", \n",
    "             \"crunyon\", ]\n",
    "print(sorted(usernames))"
   ]
  },
  {
   "cell_type": "code",
   "execution_count": null,
   "id": "9a47c9c6-c1e1-4e96-bf03-f74565216512",
   "metadata": {},
   "outputs": [],
   "source": []
  },
  {
   "cell_type": "code",
   "execution_count": null,
   "id": "92a2783a-a866-4089-9000-46dbb1a61803",
   "metadata": {},
   "outputs": [],
   "source": [
    "time_list = [12, 2, 32, 19, 57, 22, 14]\n",
    "print(min(time_list))\n",
    "print(max(time_list))"
   ]
  },
  {
   "cell_type": "code",
   "execution_count": null,
   "id": "45caa9fa-7ee8-4dcc-b015-f88035b1ec99",
   "metadata": {},
   "outputs": [],
   "source": []
  },
  {
   "cell_type": "code",
   "execution_count": null,
   "id": "2fdbdc00-4205-4261-8775-3d8d1fd66a13",
   "metadata": {},
   "outputs": [],
   "source": [
    "time_list = [12, 2, 32, 19, 57, 22, 14]\n",
    "print(sorted(time_list))"
   ]
  },
  {
   "cell_type": "code",
   "execution_count": null,
   "id": "56dead50-a94a-42b2-b3aa-fca473c4363c",
   "metadata": {},
   "outputs": [],
   "source": []
  },
  {
   "cell_type": "code",
   "execution_count": null,
   "id": "5a8f6b72-744a-454d-a695-724d921d28ca",
   "metadata": {},
   "outputs": [],
   "source": [
    "time_list = [12, 2, 32, 19, 57, 22, 14]\n",
    "print(sorted(time_list))\n",
    "print(time_list)"
   ]
  },
  {
   "cell_type": "code",
   "execution_count": null,
   "id": "5e063c5c-b6cc-426e-9eed-1df96b5efaf3",
   "metadata": {},
   "outputs": [],
   "source": []
  },
  {
   "cell_type": "code",
   "execution_count": 6,
   "id": "96fd3214-8d3c-4db0-b5a9-1a10406e4fe4",
   "metadata": {},
   "outputs": [
    {
     "name": "stdout",
     "output_type": "stream",
     "text": [
      "Current day login total for ejones is 9\n",
      "Average logins per day for ejones is 3\n",
      "3.0\n",
      "ejones logged in None times as much as they do on an average day.\n"
     ]
    }
   ],
   "source": [
    "# Define a function named `analyze_logins()` that takes in three parameters, `username`, `current_day_logins`, and `average_day_logins`\n",
    "\n",
    "def analyze_logins(username, current_day_logins, average_day_logins):\n",
    "\n",
    "    # Display a message about how many login attempts the user has made that day\n",
    "\n",
    "    print(\"Current day login total for\", username, \"is\", current_day_logins)\n",
    "\n",
    "    # Display a message about average number of login attempts the user has made that day\n",
    "\n",
    "    print(\"Average logins per day for\", username, \"is\", average_day_logins)\n",
    "\n",
    "    # Calculate the ratio of the logins made on the current day to the logins made on an average day, storing in a variable named `login_ratio`\n",
    "\n",
    "    login_ratio = current_day_logins / average_day_logins\n",
    "\n",
    "    # Return the ratio\n",
    "\n",
    "    print(login_ratio)\n",
    "\n",
    "# Call `analyze_logins() and store the output in a variable named `login_analysis`\n",
    "\n",
    "login_analysis = analyze_logins(\"ejones\", 9, 3)\n",
    "\n",
    "# Display a message about the `login_analysis`\n",
    "\n",
    "print(\"ejones\", \"logged in\", login_analysis, \"times as much as they do on an average day.\")"
   ]
  },
  {
   "cell_type": "code",
   "execution_count": null,
   "id": "cb9815f4-2db1-4686-a0de-55caf76ad936",
   "metadata": {},
   "outputs": [],
   "source": []
  },
  {
   "cell_type": "code",
   "execution_count": 7,
   "id": "6bb6ab89-c11e-4e05-99a1-32b7d5a0da7c",
   "metadata": {},
   "outputs": [
    {
     "name": "stdout",
     "output_type": "stream",
     "text": [
      "Current day login total for ejones is 15\n",
      "Average logins per day for ejones is 1\n",
      "Alert! This account has more login activity than normal.\n"
     ]
    }
   ],
   "source": [
    "# Define a function named `analyze_logins()` that takes in three parameters, `username`, `current_day_logins`, and `average_day_logins`\n",
    "\n",
    "def analyze_logins(username, current_day_logins, average_day_logins):\n",
    "\n",
    "    # Display a message about how many login attempts the user has made that day\n",
    "\n",
    "    print(\"Current day login total for\", username, \"is\", current_day_logins)\n",
    "\n",
    "    # Display a message about average number of login attempts the user has made that day\n",
    "\n",
    "    print(\"Average logins per day for\", username, \"is\", average_day_logins)\n",
    "\n",
    "    # Calculate the ratio of the logins made on the current day to the logins made on an average day, storing in a variable named `login_ratio`\n",
    "\n",
    "    login_ratio = current_day_logins / average_day_logins\n",
    "\n",
    "    # Return the ratio\n",
    "\n",
    "    return login_ratio\n",
    "\n",
    "# Call `analyze_logins() and store the output in a variable named `login_analysis`\n",
    "\n",
    "login_analysis = analyze_logins(\"ejones\", 15, 1)\n",
    "\n",
    "# Conditional statement that displays an alert about the login activity if it's more than normal\n",
    "\n",
    "if login_analysis >= 10:\n",
    "    print(\"Alert! This account has more login activity than normal.\")"
   ]
  },
  {
   "cell_type": "code",
   "execution_count": null,
   "id": "17a9ef03-1573-42e2-aa39-4b8922edd351",
   "metadata": {},
   "outputs": [],
   "source": []
  },
  {
   "cell_type": "code",
   "execution_count": 8,
   "id": "7f7b816f-aa1d-4715-a983-6f7faecf02d4",
   "metadata": {},
   "outputs": [
    {
     "name": "stdout",
     "output_type": "stream",
     "text": [
      "<class 'int'>\n",
      "<class 'str'>\n"
     ]
    }
   ],
   "source": [
    "# Assign `employee_id` to a four digit number as an initial value\n",
    "\n",
    "employee_id = 4186\n",
    "\n",
    "# Display the data type of `employee_id`\n",
    "\n",
    "print(type(employee_id))\n",
    "\n",
    "# Reassign `employee_id` to the same value but in the form of a string\n",
    "\n",
    "employee_id = str(4186)\n",
    "\n",
    "# Display the data type of `employee_id` now\n",
    "\n",
    "print(type(employee_id))"
   ]
  },
  {
   "cell_type": "code",
   "execution_count": null,
   "id": "3d627d3a-47d5-4b46-840a-5c2876991134",
   "metadata": {},
   "outputs": [],
   "source": []
  },
  {
   "cell_type": "code",
   "execution_count": null,
   "id": "d3fb4eea-a5aa-42c2-9232-8a86281d6f66",
   "metadata": {},
   "outputs": [],
   "source": [
    "# Assign `url` to a specific URL\n",
    "\n",
    "url = \"https://exampleURL1.com\"\n",
    "\n",
    "# Extract the protocol of `url` along with the syntax following it, display the result\n",
    "\n",
    "print(url[0:8])"
   ]
  },
  {
   "cell_type": "code",
   "execution_count": null,
   "id": "dec8fd34-52d6-4714-876a-c1225b03a5f3",
   "metadata": {},
   "outputs": [],
   "source": []
  },
  {
   "cell_type": "code",
   "execution_count": null,
   "id": "19ea127a-3c11-41b7-a65e-542205a78bc8",
   "metadata": {},
   "outputs": [],
   "source": [
    "# Assign `url` to a specific URL\n",
    "\n",
    "url = \"https://exampleURL1.com\"\n",
    "\n",
    "# Display the index where the domain extension \".com\" is located in `url`\n",
    "\n",
    "print(url.index('.'))"
   ]
  },
  {
   "cell_type": "code",
   "execution_count": null,
   "id": "dd4da66e-0371-4869-979c-02c85f458760",
   "metadata": {},
   "outputs": [],
   "source": []
  },
  {
   "cell_type": "code",
   "execution_count": null,
   "id": "ac902b23-c94b-4091-95aa-13fb7d9ff17b",
   "metadata": {},
   "outputs": [],
   "source": [
    "# Assign `url` to a specific URL\n",
    "\n",
    "url = \"https://exampleURL1.com\"\n",
    "\n",
    "# Assign `ind` to the output of applying `.index()` to `url` in order to extract the starting index of \".com\" in `url` \n",
    "\n",
    "ind = url.index('.com')\n",
    "print(ind)"
   ]
  },
  {
   "cell_type": "code",
   "execution_count": null,
   "id": "937aa324-bbf5-4c04-9826-8cee07b34312",
   "metadata": {},
   "outputs": [],
   "source": []
  },
  {
   "cell_type": "code",
   "execution_count": null,
   "id": "869f439b-453d-42c2-bae1-be4c8ae581b0",
   "metadata": {},
   "outputs": [],
   "source": [
    "# Assign `url` to a specific URL\n",
    "\n",
    "url = \"https://exampleURL1.com\"\n",
    "\n",
    "# Assign `ind` to the output of applying `.index()` to `url` in order to extract the starting index of \".com\" in `url` \n",
    "\n",
    "ind = url.index(\".com\")\n",
    "\n",
    "# Extract the domain extension in `url` and display it\n",
    "\n",
    "print(url[ind:ind+4])\n"
   ]
  },
  {
   "cell_type": "code",
   "execution_count": null,
   "id": "8e0d594e-8f0a-47c0-8c44-49ba72b06135",
   "metadata": {},
   "outputs": [],
   "source": []
  },
  {
   "cell_type": "code",
   "execution_count": null,
   "id": "af4358a7-fc4d-4a4d-b511-bc4211ca595c",
   "metadata": {},
   "outputs": [],
   "source": [
    "# Assign `url` to a specific URL\n",
    "\n",
    "url = \"https://exampleURL1.com\"\n",
    "\n",
    "# Assign `ind` to the output of applying `.index()` to `url` in order to extract the starting index of \".com\" in `url` \n",
    "\n",
    "ind = url.index(\"exampleURL1\")\n",
    "\n",
    "# Extract the website name in `url` and display it\n",
    "\n",
    "print(url[ind:ind+11])\n",
    "    "
   ]
  },
  {
   "cell_type": "code",
   "execution_count": null,
   "id": "0f1d64fa-d2eb-4348-97a9-4deef1ca2f38",
   "metadata": {},
   "outputs": [],
   "source": []
  },
  {
   "cell_type": "code",
   "execution_count": null,
   "id": "f2f982bb-6e3d-4712-8663-bec7be5fb27b",
   "metadata": {},
   "outputs": [],
   "source": [
    "#Extract from a list \n",
    "my_list = [\"jrogers\", \"gdaley\", \"isprad\", \"drunyon\"]\n",
    "print(my_list[3])"
   ]
  },
  {
   "cell_type": "code",
   "execution_count": null,
   "id": "d31109b8-6513-471a-bc49-05ed9a4b6c5f",
   "metadata": {},
   "outputs": [],
   "source": []
  },
  {
   "cell_type": "code",
   "execution_count": 9,
   "id": "ecf5f1ed-0a3d-422e-a945-9438031eea8b",
   "metadata": {},
   "outputs": [
    {
     "name": "stdout",
     "output_type": "stream",
     "text": [
      "['a', 7, 'c', 'd', 1, 2, 3, 4]\n"
     ]
    }
   ],
   "source": [
    "#concatinate 2 lists \n",
    "my_list = [\"a\", \"b\", \"c\", \"d\"]\n",
    "my_list[1]=7\n",
    "num_list = [1, 2, 3, 4]\n",
    "print(my_list + num_list)"
   ]
  },
  {
   "cell_type": "code",
   "execution_count": null,
   "id": "0c6c91a9-637c-4786-a9fe-ee98206abb05",
   "metadata": {},
   "outputs": [],
   "source": []
  },
  {
   "cell_type": "code",
   "execution_count": null,
   "id": "ddb06cdb-9487-49eb-af44-3b5e7fc12e6d",
   "metadata": {},
   "outputs": [],
   "source": [
    "#use insert method \n",
    "my_list = ['a', 'b', 'c', 'd']\n",
    "my_list.insert(1,7)\n",
    "print(my_list)"
   ]
  },
  {
   "cell_type": "code",
   "execution_count": null,
   "id": "4a8f90cb-1ba3-4972-9212-5ceefc6c17d8",
   "metadata": {},
   "outputs": [],
   "source": []
  },
  {
   "cell_type": "code",
   "execution_count": null,
   "id": "fa8ce68d-c6ae-4d92-987f-bf29025e68dc",
   "metadata": {},
   "outputs": [],
   "source": [
    "#use remove method \n",
    "my_list = ['a', 'b', 'c', 'd']\n",
    "my_list.remove('c')\n",
    "print(my_list)"
   ]
  },
  {
   "cell_type": "code",
   "execution_count": null,
   "id": "febcdf15-01bb-4d81-adb8-1d9adba68e6c",
   "metadata": {},
   "outputs": [],
   "source": []
  },
  {
   "cell_type": "code",
   "execution_count": null,
   "id": "d5374915-caba-42a0-911c-442b31d2a39e",
   "metadata": {},
   "outputs": [],
   "source": [
    "IP = [\"198.223.xx.xx\", \"198.101.xx.xx\", \"192.168.xx.xx\", \"184.090.xx.xx\"]\n",
    "\n",
    "# Extract the first three characters from IP list\n",
    "\n",
    "networks = []\n",
    "for address in IP:\n",
    "    networks.append(address[0:3])\n",
    "print(networks)"
   ]
  },
  {
   "cell_type": "code",
   "execution_count": null,
   "id": "7a7b7f4b-681a-476c-b418-aeeab84fc251",
   "metadata": {},
   "outputs": [],
   "source": []
  },
  {
   "cell_type": "code",
   "execution_count": null,
   "id": "00c3b3da-6fdb-4813-bbd7-7d094e24ad1d",
   "metadata": {},
   "outputs": [],
   "source": [
    "#searching for email address\n",
    "\n",
    "import re\n",
    "email_log = \"\"\"\"Email recieved June 2 from user1@gmail.com. \n",
    "Email recieved June 2 from user2@gmail.com. \n",
    "Email rejected June 2nd from invalid_email@gmail.com\"\"\"\n",
    "\n",
    "print(re.findall(\"\\w+@\\w+\\.\\w+\",email_log))"
   ]
  },
  {
   "cell_type": "code",
   "execution_count": null,
   "id": "cb91bbb1-cc53-4586-9605-477ffec40948",
   "metadata": {},
   "outputs": [],
   "source": []
  },
  {
   "cell_type": "code",
   "execution_count": null,
   "id": "4342e809-7ddb-4499-b2cd-88a1a93c19b7",
   "metadata": {},
   "outputs": [],
   "source": [
    "#Extract username and login attempts without ID number or department\n",
    "\n",
    "import re\n",
    "pattern = \"\\w+:\\s\\d+\"\n",
    "employee_logins_string = \"1001 bmoreno: 12 Marketing 1002 tshah: 7 Human Resources 1003 sgilmore: 5 Finance\"\n",
    "print(re.findall(pattern, employee_logins_string))"
   ]
  },
  {
   "cell_type": "code",
   "execution_count": null,
   "id": "74cfd082-d507-4630-ab9d-0842abaa2edd",
   "metadata": {},
   "outputs": [],
   "source": []
  },
  {
   "cell_type": "code",
   "execution_count": 13,
   "id": "9cad26f3-4d41-4859-addd-dcdb4907d4f7",
   "metadata": {},
   "outputs": [
    {
     "data": {
      "text/plain": [
       "['example.emails1@']"
      ]
     },
     "execution_count": 13,
     "metadata": {},
     "output_type": "execute_result"
    }
   ],
   "source": [
    "import re\n",
    "re.findall(\"\\w+\\.\\w+\\@\", \"example.emails1@gmail.com\")"
   ]
  },
  {
   "cell_type": "code",
   "execution_count": 12,
   "id": "b311c809-f1d0-461e-bbfe-2cb1e97e2bb8",
   "metadata": {},
   "outputs": [
    {
     "name": "stdout",
     "output_type": "stream",
     "text": [
      "['32', '17']\n",
      "['', '32', '', '', '17', '']\n",
      "['3', '2', '1', '7']\n",
      "['ts', 'ts']\n",
      "['32', '17', '82', '29', '94']\n",
      "['32', '17', '825', '0', '299', '4']\n"
     ]
    }
   ],
   "source": [
    "import re\n",
    "print(re.findall(\"\\d+\", \"h32rb17\"))\n",
    "print(re.findall(\"\\d*\", \"h32rb17\"))\n",
    "print(re.findall(\"\\d\", \"h32rb17\"))\n",
    "print(re.findall(\"ts\", \"tsnow, tshah, bmoreno\"))\n",
    "print(re.findall(\"\\d{2}\", \"h32rb17 k825t0m c2994eh\"))\n",
    "print(re.findall(\"\\d{1,3}\", \"h32rb17 k825t0m c2994eh\"))"
   ]
  },
  {
   "cell_type": "code",
   "execution_count": null,
   "id": "74469608-9a3a-4801-9a05-0ad3734beae1",
   "metadata": {},
   "outputs": [],
   "source": []
  },
  {
   "cell_type": "code",
   "execution_count": null,
   "id": "0b04ca79-4d47-440a-b320-fca573878e86",
   "metadata": {},
   "outputs": [],
   "source": [
    "#Opening files('r is read' 'w is write')\n",
    "with open(\"login_attempts.txt\", \"r\") as file:\n",
    "    file_text = file.read()\n",
    "print(file_text)"
   ]
  },
  {
   "cell_type": "code",
   "execution_count": null,
   "id": "ff396f07-2b5a-4e5b-bc74-dd86137ca8a1",
   "metadata": {},
   "outputs": [],
   "source": []
  },
  {
   "cell_type": "code",
   "execution_count": 11,
   "id": "7e2e673c-d426-4811-83a5-dcb21151f89d",
   "metadata": {},
   "outputs": [
    {
     "ename": "TypeError",
     "evalue": "login_check() missing 2 required positional arguments: 'login_list' and 'current_user'",
     "output_type": "error",
     "traceback": [
      "\u001b[0;31m---------------------------------------------------------------------------\u001b[0m",
      "\u001b[0;31mTypeError\u001b[0m                                 Traceback (most recent call last)",
      "\u001b[0;32m<ipython-input-11-fe4aec472de4>\u001b[0m in \u001b[0;36m<module>\u001b[0;34m\u001b[0m\n\u001b[1;32m     11\u001b[0m     \u001b[0;32melse\u001b[0m\u001b[0;34m:\u001b[0m\u001b[0;34m\u001b[0m\u001b[0;34m\u001b[0m\u001b[0m\n\u001b[1;32m     12\u001b[0m         \u001b[0;32mreturn\u001b[0m \u001b[0;34m\"You can login!\"\u001b[0m\u001b[0;34m\u001b[0m\u001b[0;34m\u001b[0m\u001b[0m\n\u001b[0;32m---> 13\u001b[0;31m \u001b[0mlogin_check\u001b[0m\u001b[0;34m(\u001b[0m\u001b[0;34m)\u001b[0m\u001b[0;34m\u001b[0m\u001b[0;34m\u001b[0m\u001b[0m\n\u001b[0m",
      "\u001b[0;31mTypeError\u001b[0m: login_check() missing 2 required positional arguments: 'login_list' and 'current_user'"
     ]
    }
   ],
   "source": [
    "#Create a function that counts a users failed login_attemopts\n",
    "\n",
    "def login_check(login_list, current_user):\n",
    "    counter = 0\n",
    "    for i in login_list:\n",
    "        if i == current_user:\n",
    "            counter = counter + 1\n",
    "            \n",
    "    if counter >= 3:\n",
    "        return \"Your account is locked\"\n",
    "    else:\n",
    "        return \"You can login!\"\n",
    "login_check()\n"
   ]
  },
  {
   "cell_type": "code",
   "execution_count": null,
   "id": "1b0368bc-f4a3-40bf-9b17-ed2039cbe6df",
   "metadata": {},
   "outputs": [],
   "source": []
  },
  {
   "cell_type": "code",
   "execution_count": null,
   "id": "09477c81-b04c-4f86-a943-37ec4eb63db2",
   "metadata": {},
   "outputs": [],
   "source": []
  }
 ],
 "metadata": {
  "kernelspec": {
   "display_name": "Python 3",
   "language": "python",
   "name": "python3"
  },
  "language_info": {
   "codemirror_mode": {
    "name": "ipython",
    "version": 3
   },
   "file_extension": ".py",
   "mimetype": "text/x-python",
   "name": "python",
   "nbconvert_exporter": "python",
   "pygments_lexer": "ipython3",
   "version": "3.8.8"
  }
 },
 "nbformat": 4,
 "nbformat_minor": 5
}
